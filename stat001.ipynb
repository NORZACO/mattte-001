{
 "cells": [
  {
   "cell_type": "code",
   "execution_count": 1,
   "id": "33fbd40a",
   "metadata": {},
   "outputs": [],
   "source": [
    "import pandas as pd\n",
    "import numpy as np"
   ]
  },
  {
   "cell_type": "code",
   "execution_count": 2,
   "id": "d634b20b",
   "metadata": {},
   "outputs": [
    {
     "name": "stdout",
     "output_type": "stream",
     "text": [
      "[80, 85, 90, 95, 100, 105, 110, 115, 120, 125]\n"
     ]
    }
   ],
   "source": [
    "Calorie_burnage  = [80, 85, 90, 95, 100, 105, 110, 115, 120, 125]\n",
    "print(Calorie_burnage )"
   ]
  },
  {
   "cell_type": "code",
   "execution_count": 3,
   "id": "c1dffa11",
   "metadata": {},
   "outputs": [
    {
     "name": "stdout",
     "output_type": "stream",
     "text": [
      "   col1  col2  col3\n",
      "0     1     4     7\n",
      "1     2     5     8\n",
      "2     3     6    12\n",
      "3     4     9     1\n",
      "4     7     5    11\n"
     ]
    }
   ],
   "source": [
    "import pandas as pd\n",
    "\n",
    "d = {'col1': [1, 2, 3, 4, 7], 'col2': [4, 5, 6, 9, 5], 'col3': [7, 8, 12, 1, 11]}\n",
    "\n",
    "df = pd.DataFrame(data=d)\n",
    "\n",
    "print(df)"
   ]
  },
  {
   "cell_type": "code",
   "execution_count": 4,
   "id": "d24a6616",
   "metadata": {},
   "outputs": [
    {
     "name": "stdout",
     "output_type": "stream",
     "text": [
      " Number of columns: 3. Number of raws is: 5\n"
     ]
    }
   ],
   "source": [
    "x = count_column = df.shape[1]\n",
    "raw = df.shape[0]\n",
    "print(f\" Number of columns: {x}. Number of raws is: {raw}\")"
   ]
  },
  {
   "cell_type": "code",
   "execution_count": 5,
   "id": "15cb390b",
   "metadata": {},
   "outputs": [
    {
     "name": "stdout",
     "output_type": "stream",
     "text": [
      "The max of the array is 125 and min is 80\n"
     ]
    }
   ],
   "source": [
    "Array1 = f\"The max of the array is {max(Calorie_burnage )} and min is {min(Calorie_burnage )}\"\n",
    "print(Array1)"
   ]
  },
  {
   "cell_type": "code",
   "execution_count": 6,
   "id": "92ef75e9",
   "metadata": {},
   "outputs": [
    {
     "name": "stdout",
     "output_type": "stream",
     "text": [
      "102.5\n"
     ]
    }
   ],
   "source": [
    "test001 = np.mean(Calorie_burnage)\n",
    "print(test001)"
   ]
  },
  {
   "cell_type": "markdown",
   "id": "64445d29",
   "metadata": {},
   "source": [
    "# C:\\Users\\Admin\\Desktop\\PROJECT\\STATISTICS\n",
    "\n",
    "<!DOCTYPE html>\n",
    "<html>\n",
    "<head>\n",
    "<title>Page Title</title>\n",
    "</head>\n",
    "<body>\n",
    "\n",
    "<h1>My First Heading</h1>\n",
    "<p> Frenquency means the number of times a value appears in the data. A table can quickly show us how many times each value appears.\n",
    "\n",
    "If the data has many different values, it is easier to use intervals of values to present them in a table. </p>\n",
    "\n",
    "</body>\n",
    "</html>\n"
   ]
  },
  {
   "cell_type": "code",
   "execution_count": 10,
   "id": "35d326c1",
   "metadata": {},
   "outputs": [
    {
     "name": "stdout",
     "output_type": "stream",
     "text": [
      "  Age Interval  Frequency\n",
      "0       Oct-19          1\n",
      "1        20-29          2\n",
      "2        30-39         48\n",
      "3        40-49        158\n",
      "4        50-59        236\n",
      "5        60-69        262\n",
      "6        70-79        174\n",
      "7        80-89         50\n",
      "8        90-99          3\n"
     ]
    }
   ],
   "source": [
    "# Read csv file  \n",
    "table = pd.read_csv(\"C:/Users/Admin/Desktop/PROJECT/STATISTICS/Book1.csv\") \n",
    "\n",
    "# Print it out if you want to...\n",
    "print(table)"
   ]
  },
  {
   "cell_type": "markdown",
   "id": "dc973b7e",
   "metadata": {},
   "source": [
    "import csv\n",
    "\n",
    "with open('employee.csv','r') as file:\n",
    "    employee = csv.reader(file)\n",
    "\n",
    "print(employee)"
   ]
  },
  {
   "cell_type": "code",
   "execution_count": 11,
   "id": "38e507ef",
   "metadata": {},
   "outputs": [
    {
     "name": "stdout",
     "output_type": "stream",
     "text": [
      "     Duration  Pulse  Maxpulse  Calories\n",
      "0          60    110       130     409.1\n",
      "1          60    117       145     479.0\n",
      "2          60    103       135     340.0\n",
      "3          45    109       175     282.4\n",
      "4          45    117       148     406.0\n",
      "..        ...    ...       ...       ...\n",
      "164        60    105       140     290.8\n",
      "165        60    110       145     300.0\n",
      "166        60    115       145     310.2\n",
      "167        75    120       150     320.4\n",
      "168        75    125       150     330.4\n",
      "\n",
      "[169 rows x 4 columns]\n"
     ]
    }
   ],
   "source": [
    "\n",
    "df1 = pd.read_csv('data.csv')\n",
    "\n",
    "print(df1)"
   ]
  },
  {
   "cell_type": "code",
   "execution_count": 24,
   "id": "5d233290",
   "metadata": {},
   "outputs": [
    {
     "name": "stdout",
     "output_type": "stream",
     "text": [
      "    Duration  Average_Pulse  Max_Pulse  Calorie_Burnage  Hours_Work\n",
      "0       30.0           80.0      120.0            240.0        10.0\n",
      "1       30.0           85.0      120.0            250.0        10.0\n",
      "2       45.0           90.0      130.0            260.0         8.0\n",
      "3       45.0           95.0      130.0            270.0         8.0\n",
      "4       45.0          100.0      140.0            280.0         0.0\n",
      "5       60.0          105.0      140.0            290.0         7.0\n",
      "6       60.0          110.0      145.0            300.0         7.0\n",
      "7       60.0          115.0      145.0            310.0         8.0\n",
      "8       75.0          120.0      150.0            320.0         0.0\n",
      "9       75.0          125.0      150.0            330.0         8.0\n",
      "10       NaN            NaN        NaN              NaN         NaN\n",
      "11       NaN            NaN        NaN              NaN         NaN \n",
      "\n",
      "\n",
      "   Duration  Average_Pulse  Max_Pulse  Calorie_Burnage  Hours_Work\n",
      "1      30.0           85.0      120.0            250.0        10.0\n"
     ]
    }
   ],
   "source": [
    "df2 = pd.read_csv('Book2.csv')\n",
    "\n",
    "\n",
    "print(df2, \"\\n\\n\")\n",
    "\n",
    "print(df2[1:2])"
   ]
  },
  {
   "cell_type": "code",
   "execution_count": 33,
   "id": "77c0e0e8",
   "metadata": {},
   "outputs": [
    {
     "name": "stdout",
     "output_type": "stream",
     "text": [
      "60\n"
     ]
    }
   ],
   "source": [
    "print(pd.options.display.max_rows)"
   ]
  }
 ],
 "metadata": {
  "kernelspec": {
   "display_name": "Python 3",
   "language": "python",
   "name": "python3"
  },
  "language_info": {
   "codemirror_mode": {
    "name": "ipython",
    "version": 3
   },
   "file_extension": ".py",
   "mimetype": "text/x-python",
   "name": "python",
   "nbconvert_exporter": "python",
   "pygments_lexer": "ipython3",
   "version": "3.8.8"
  }
 },
 "nbformat": 4,
 "nbformat_minor": 5
}
